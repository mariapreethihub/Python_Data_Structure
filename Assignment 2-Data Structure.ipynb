{
 "cells": [
  {
   "cell_type": "markdown",
   "id": "092014b3-20dc-4c30-a9c6-0f99134b9bf4",
   "metadata": {},
   "source": [
    "# Assignment 2- Data Structure"
   ]
  },
  {
   "cell_type": "markdown",
   "id": "142b16bb-466b-4331-adcc-aac72ae39e58",
   "metadata": {},
   "source": [
    "# Topic List"
   ]
  },
  {
   "cell_type": "markdown",
   "id": "44ed5ad8-f02e-40a3-a8bd-b78dc91e8f3b",
   "metadata": {},
   "source": [
    "## Q1. Create a list of 5 random numbers and print the list. "
   ]
  },
  {
   "cell_type": "code",
   "execution_count": 30,
   "id": "2c2a6e0d-24a7-4e25-a126-69dd5f796287",
   "metadata": {},
   "outputs": [
    {
     "name": "stdout",
     "output_type": "stream",
     "text": [
      "List of random no.s : [3, 6, 9, 14, 67, 5]\n"
     ]
    }
   ],
   "source": [
    "random_nos=[3,6,9,14,67,5]\n",
    "print(\"List of random no.s :\",random_nos)"
   ]
  },
  {
   "cell_type": "markdown",
   "id": "ec57e3ae-9167-4af3-99b4-869f431ea612",
   "metadata": {},
   "source": [
    "## Q2. Insert 3 new values to the list and print the updated list. "
   ]
  },
  {
   "cell_type": "code",
   "execution_count": 32,
   "id": "e43eaf60-5b16-4482-be2d-b11a12c0ce04",
   "metadata": {},
   "outputs": [
    {
     "name": "stdout",
     "output_type": "stream",
     "text": [
      "Updated list of random no.s: [3, 6, 1, 9, 10, 67, 5, 18]\n"
     ]
    }
   ],
   "source": [
    "random_nos.insert(2,1) # inserting value 1 to the index 2 using insert()\n",
    "random_nos.append(18)  # inserting value 18 to the list using append()\n",
    "random_nos[4]=10  # inserting value 10 to the index 4\n",
    "print(\"Updated list of random no.s:\",random_nos)\n"
   ]
  },
  {
   "cell_type": "markdown",
   "id": "d2c2ebfe-3b48-44cb-a614-b65e910d63c8",
   "metadata": {},
   "source": [
    "## Q3. Try to use a for loop to print each element in the list. "
   ]
  },
  {
   "cell_type": "code",
   "execution_count": 35,
   "id": "3db52bdf-d1d1-470e-99bc-dd1c71c05c38",
   "metadata": {},
   "outputs": [
    {
     "name": "stdout",
     "output_type": "stream",
     "text": [
      "The random no is : 3\n",
      "The random no is : 6\n",
      "The random no is : 1\n",
      "The random no is : 9\n",
      "The random no is : 10\n",
      "The random no is : 67\n",
      "The random no is : 5\n",
      "The random no is : 18\n"
     ]
    }
   ],
   "source": [
    "for e in random_nos:\n",
    "    print(\"The random no is :\",e)"
   ]
  },
  {
   "cell_type": "markdown",
   "id": "796b6260-8fb9-419b-9b85-1ccb5f0cc76a",
   "metadata": {},
   "source": [
    "# Topic: Dictionary "
   ]
  },
  {
   "cell_type": "markdown",
   "id": "09508f19-cc01-414f-ac17-d270175e2c58",
   "metadata": {},
   "source": [
    "## Q1. Create a dictionary with keys 'name', 'age', and 'address' and values 'John', 25, and 'New York' respectively. "
   ]
  },
  {
   "cell_type": "code",
   "execution_count": 90,
   "id": "8a277a3e-20b3-49f1-b321-2a5a95efd53f",
   "metadata": {},
   "outputs": [
    {
     "name": "stdout",
     "output_type": "stream",
     "text": [
      "Dictionary is created with the following key value pair:  {'name': 'John', 'age': 25, 'address': 'New York'}\n"
     ]
    }
   ],
   "source": [
    "Dict_details={\"name\":\"John\",\"age\":25,\"address\":\"New York\"}\n",
    "print(\"Dictionary is created with the following key value pair: \",Dict_details)"
   ]
  },
  {
   "cell_type": "markdown",
   "id": "f46d6df4-5ef7-4e2e-ace6-9ac4e1ab9e76",
   "metadata": {},
   "source": [
    "## Q2. Add a new key-value pair to the dictionary created in Q1 with key 'phone' and value '1234567890'. "
   ]
  },
  {
   "cell_type": "code",
   "execution_count": 92,
   "id": "f6b4bf0f-21c2-4fff-82c7-8d3733e2211d",
   "metadata": {},
   "outputs": [
    {
     "name": "stdout",
     "output_type": "stream",
     "text": [
      "Dictionary after adding new key value pair : {'name': 'John', 'age': 25, 'address': 'New York', 'phone': 1234567890}\n"
     ]
    }
   ],
   "source": [
    "Dict_details['phone']=1234567890\n",
    "print(\"Dictionary after adding new key value pair :\",Dict_details)"
   ]
  },
  {
   "cell_type": "markdown",
   "id": "1398b349-4977-44f2-8d27-f5f3ae11599f",
   "metadata": {},
   "source": [
    "# Topic: Set \n"
   ]
  },
  {
   "cell_type": "markdown",
   "id": "46646797-6d1d-4cc6-ac20-c4bd4d659e29",
   "metadata": {},
   "source": [
    "## Q1.Create a set with values 1, 2, 3, 4, and 5. "
   ]
  },
  {
   "cell_type": "code",
   "execution_count": 82,
   "id": "fe864c2d-ee9b-43cf-9992-81bfb212d527",
   "metadata": {},
   "outputs": [
    {
     "name": "stdout",
     "output_type": "stream",
     "text": [
      "Set is created with the following elements : {1, 2, 3, 4, 5}\n"
     ]
    }
   ],
   "source": [
    "Set={1,2,3,4,5}\n",
    "print(\"Set is created with the following elements :\",Set)"
   ]
  },
  {
   "cell_type": "markdown",
   "id": "6be8d159-7753-4231-892d-33b3e8943750",
   "metadata": {},
   "source": [
    "## Q2. Add the value 6 to the set created in Q1."
   ]
  },
  {
   "cell_type": "code",
   "execution_count": 84,
   "id": "27478d0e-56bd-4ad6-9799-1f30ebd5152a",
   "metadata": {},
   "outputs": [
    {
     "name": "stdout",
     "output_type": "stream",
     "text": [
      "Set after adding value 6 : {1, 2, 3, 4, 5, 6}\n"
     ]
    }
   ],
   "source": [
    "Set.add(6)\n",
    "print(\"Set after adding value 6 :\",Set)"
   ]
  },
  {
   "cell_type": "markdown",
   "id": "66ed327e-fcfd-4864-90cf-4f444b5b0973",
   "metadata": {},
   "source": [
    "## Q3. Remove the value 3 from the set created in Q1. "
   ]
  },
  {
   "cell_type": "code",
   "execution_count": 86,
   "id": "d9232705-25bb-4129-9717-8358850fd8bc",
   "metadata": {},
   "outputs": [
    {
     "name": "stdout",
     "output_type": "stream",
     "text": [
      "Set after removing value 3: {1, 2, 4, 5, 6}\n"
     ]
    }
   ],
   "source": [
    "Set.remove(3)\n",
    "print(\"Set after removing value 3:\",Set)"
   ]
  },
  {
   "cell_type": "markdown",
   "id": "d9bd1e30-dcad-4935-bda6-e810868bff1d",
   "metadata": {},
   "source": [
    "# Topic:Tuple "
   ]
  },
  {
   "cell_type": "markdown",
   "id": "8582bab5-f3f5-4e9a-864e-f24fc02d50e3",
   "metadata": {},
   "source": [
    "## Q1. Create a tuple with values 1, 2, 3, and 4"
   ]
  },
  {
   "cell_type": "code",
   "execution_count": 77,
   "id": "5db0642b-d970-4815-86e3-4995651e1461",
   "metadata": {},
   "outputs": [
    {
     "name": "stdout",
     "output_type": "stream",
     "text": [
      "Tuple created : (1, 2, 3, 4)\n"
     ]
    }
   ],
   "source": [
    "Tuple=(1,2,3,4)\n",
    "print(\"Tuple created :\",Tuple)"
   ]
  },
  {
   "cell_type": "markdown",
   "id": "7cfdb603-0ae9-4cae-93d8-154beafcc312",
   "metadata": {},
   "source": [
    "## Q2. Print the length of the tuple created in Q1."
   ]
  },
  {
   "cell_type": "code",
   "execution_count": 80,
   "id": "348fc549-eab0-4fc9-a0b6-c596c85f6beb",
   "metadata": {},
   "outputs": [
    {
     "name": "stdout",
     "output_type": "stream",
     "text": [
      "Length of the Tuple created: 4\n"
     ]
    }
   ],
   "source": [
    "print(\"Length of the Tuple created:\",len(Tuple))"
   ]
  },
  {
   "cell_type": "code",
   "execution_count": null,
   "id": "94d58b83-1581-4340-9fcf-04cb0b06e36f",
   "metadata": {},
   "outputs": [],
   "source": []
  }
 ],
 "metadata": {
  "kernelspec": {
   "display_name": "Python [conda env:base] *",
   "language": "python",
   "name": "conda-base-py"
  },
  "language_info": {
   "codemirror_mode": {
    "name": "ipython",
    "version": 3
   },
   "file_extension": ".py",
   "mimetype": "text/x-python",
   "name": "python",
   "nbconvert_exporter": "python",
   "pygments_lexer": "ipython3",
   "version": "3.12.7"
  }
 },
 "nbformat": 4,
 "nbformat_minor": 5
}
